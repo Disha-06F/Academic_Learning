{
 "cells": [
  {
   "cell_type": "code",
   "execution_count": 2,
   "id": "b37711b6-3ec7-4017-94d8-27e624601fc4",
   "metadata": {},
   "outputs": [],
   "source": [
    "import pandas as pd"
   ]
  },
  {
   "cell_type": "code",
   "execution_count": 4,
   "id": "5bc4103f-fed5-41fb-8fe9-6713c8dd0b22",
   "metadata": {},
   "outputs": [],
   "source": [
    "import numpy as np"
   ]
  },
  {
   "cell_type": "code",
   "execution_count": 6,
   "id": "04f0a3a7-16ea-4dcf-a3dc-fac5a6b9c862",
   "metadata": {},
   "outputs": [],
   "source": [
    "import matplotlib.pyplot as plt"
   ]
  },
  {
   "cell_type": "code",
   "execution_count": 8,
   "id": "0bed4e47-5cef-4020-99a7-084bd3016a64",
   "metadata": {},
   "outputs": [],
   "source": [
    "df=pd.read_csv('canada.csv')"
   ]
  },
  {
   "cell_type": "code",
   "execution_count": 10,
   "id": "d204aaf4-2f94-4d8a-abc2-9c823e9a9bca",
   "metadata": {},
   "outputs": [
    {
     "data": {
      "text/html": [
       "<div>\n",
       "<style scoped>\n",
       "    .dataframe tbody tr th:only-of-type {\n",
       "        vertical-align: middle;\n",
       "    }\n",
       "\n",
       "    .dataframe tbody tr th {\n",
       "        vertical-align: top;\n",
       "    }\n",
       "\n",
       "    .dataframe thead th {\n",
       "        text-align: right;\n",
       "    }\n",
       "</style>\n",
       "<table border=\"1\" class=\"dataframe\">\n",
       "  <thead>\n",
       "    <tr style=\"text-align: right;\">\n",
       "      <th></th>\n",
       "      <th>Date</th>\n",
       "      <th>Open</th>\n",
       "      <th>High</th>\n",
       "      <th>Low</th>\n",
       "      <th>Close</th>\n",
       "      <th>Adj Close</th>\n",
       "      <th>Volume</th>\n",
       "    </tr>\n",
       "  </thead>\n",
       "  <tbody>\n",
       "    <tr>\n",
       "      <th>0</th>\n",
       "      <td>1999-12-31</td>\n",
       "      <td>8399.099609</td>\n",
       "      <td>8413.799805</td>\n",
       "      <td>8379.200195</td>\n",
       "      <td>8413.799805</td>\n",
       "      <td>8413.799805</td>\n",
       "      <td>21459900.0</td>\n",
       "    </tr>\n",
       "    <tr>\n",
       "      <th>1</th>\n",
       "      <td>2000-01-03</td>\n",
       "      <td>8413.799805</td>\n",
       "      <td>8413.799805</td>\n",
       "      <td>8413.799805</td>\n",
       "      <td>8413.799805</td>\n",
       "      <td>8413.799805</td>\n",
       "      <td>0.0</td>\n",
       "    </tr>\n",
       "    <tr>\n",
       "      <th>2</th>\n",
       "      <td>2000-01-04</td>\n",
       "      <td>8271.700195</td>\n",
       "      <td>8305.900391</td>\n",
       "      <td>8157.600098</td>\n",
       "      <td>8202.599609</td>\n",
       "      <td>8202.599609</td>\n",
       "      <td>59509800.0</td>\n",
       "    </tr>\n",
       "    <tr>\n",
       "      <th>3</th>\n",
       "      <td>2000-01-05</td>\n",
       "      <td>8100.200195</td>\n",
       "      <td>8147.200195</td>\n",
       "      <td>8018.600098</td>\n",
       "      <td>8119.399902</td>\n",
       "      <td>8119.399902</td>\n",
       "      <td>94545700.0</td>\n",
       "    </tr>\n",
       "    <tr>\n",
       "      <th>4</th>\n",
       "      <td>2000-01-06</td>\n",
       "      <td>8137.000000</td>\n",
       "      <td>8186.399902</td>\n",
       "      <td>8075.700195</td>\n",
       "      <td>8114.200195</td>\n",
       "      <td>8114.200195</td>\n",
       "      <td>79690100.0</td>\n",
       "    </tr>\n",
       "    <tr>\n",
       "      <th>...</th>\n",
       "      <td>...</td>\n",
       "      <td>...</td>\n",
       "      <td>...</td>\n",
       "      <td>...</td>\n",
       "      <td>...</td>\n",
       "      <td>...</td>\n",
       "      <td>...</td>\n",
       "    </tr>\n",
       "    <tr>\n",
       "      <th>4814</th>\n",
       "      <td>2018-12-20</td>\n",
       "      <td>14244.700195</td>\n",
       "      <td>14341.700195</td>\n",
       "      <td>14075.900391</td>\n",
       "      <td>14141.799805</td>\n",
       "      <td>14141.799805</td>\n",
       "      <td>308247100.0</td>\n",
       "    </tr>\n",
       "    <tr>\n",
       "      <th>4815</th>\n",
       "      <td>2018-12-21</td>\n",
       "      <td>14161.799805</td>\n",
       "      <td>14220.900391</td>\n",
       "      <td>13924.400391</td>\n",
       "      <td>13935.400391</td>\n",
       "      <td>13935.400391</td>\n",
       "      <td>614345800.0</td>\n",
       "    </tr>\n",
       "    <tr>\n",
       "      <th>4816</th>\n",
       "      <td>2018-12-24</td>\n",
       "      <td>13857.799805</td>\n",
       "      <td>13924.000000</td>\n",
       "      <td>13776.900391</td>\n",
       "      <td>13780.200195</td>\n",
       "      <td>13780.200195</td>\n",
       "      <td>170610500.0</td>\n",
       "    </tr>\n",
       "    <tr>\n",
       "      <th>4817</th>\n",
       "      <td>2018-12-27</td>\n",
       "      <td>14018.000000</td>\n",
       "      <td>14165.500000</td>\n",
       "      <td>13918.299805</td>\n",
       "      <td>14165.200195</td>\n",
       "      <td>14165.200195</td>\n",
       "      <td>235414700.0</td>\n",
       "    </tr>\n",
       "    <tr>\n",
       "      <th>4818</th>\n",
       "      <td>2018-12-28</td>\n",
       "      <td>14234.200195</td>\n",
       "      <td>14326.900391</td>\n",
       "      <td>14174.000000</td>\n",
       "      <td>14222.000000</td>\n",
       "      <td>14222.000000</td>\n",
       "      <td>266928600.0</td>\n",
       "    </tr>\n",
       "  </tbody>\n",
       "</table>\n",
       "<p>4819 rows × 7 columns</p>\n",
       "</div>"
      ],
      "text/plain": [
       "            Date          Open          High           Low         Close  \\\n",
       "0     1999-12-31   8399.099609   8413.799805   8379.200195   8413.799805   \n",
       "1     2000-01-03   8413.799805   8413.799805   8413.799805   8413.799805   \n",
       "2     2000-01-04   8271.700195   8305.900391   8157.600098   8202.599609   \n",
       "3     2000-01-05   8100.200195   8147.200195   8018.600098   8119.399902   \n",
       "4     2000-01-06   8137.000000   8186.399902   8075.700195   8114.200195   \n",
       "...          ...           ...           ...           ...           ...   \n",
       "4814  2018-12-20  14244.700195  14341.700195  14075.900391  14141.799805   \n",
       "4815  2018-12-21  14161.799805  14220.900391  13924.400391  13935.400391   \n",
       "4816  2018-12-24  13857.799805  13924.000000  13776.900391  13780.200195   \n",
       "4817  2018-12-27  14018.000000  14165.500000  13918.299805  14165.200195   \n",
       "4818  2018-12-28  14234.200195  14326.900391  14174.000000  14222.000000   \n",
       "\n",
       "         Adj Close       Volume  \n",
       "0      8413.799805   21459900.0  \n",
       "1      8413.799805          0.0  \n",
       "2      8202.599609   59509800.0  \n",
       "3      8119.399902   94545700.0  \n",
       "4      8114.200195   79690100.0  \n",
       "...            ...          ...  \n",
       "4814  14141.799805  308247100.0  \n",
       "4815  13935.400391  614345800.0  \n",
       "4816  13780.200195  170610500.0  \n",
       "4817  14165.200195  235414700.0  \n",
       "4818  14222.000000  266928600.0  \n",
       "\n",
       "[4819 rows x 7 columns]"
      ]
     },
     "execution_count": 10,
     "metadata": {},
     "output_type": "execute_result"
    }
   ],
   "source": [
    "df"
   ]
  },
  {
   "cell_type": "code",
   "execution_count": 12,
   "id": "51342540-3a23-4d75-abaa-2e32c9ba8dc8",
   "metadata": {},
   "outputs": [],
   "source": [
    "df=df[['Date', 'Close']]"
   ]
  },
  {
   "cell_type": "code",
   "execution_count": 14,
   "id": "01c2b38b-f7c4-4539-98bd-3687e8adb117",
   "metadata": {},
   "outputs": [
    {
     "data": {
      "text/html": [
       "<div>\n",
       "<style scoped>\n",
       "    .dataframe tbody tr th:only-of-type {\n",
       "        vertical-align: middle;\n",
       "    }\n",
       "\n",
       "    .dataframe tbody tr th {\n",
       "        vertical-align: top;\n",
       "    }\n",
       "\n",
       "    .dataframe thead th {\n",
       "        text-align: right;\n",
       "    }\n",
       "</style>\n",
       "<table border=\"1\" class=\"dataframe\">\n",
       "  <thead>\n",
       "    <tr style=\"text-align: right;\">\n",
       "      <th></th>\n",
       "      <th>Date</th>\n",
       "      <th>Close</th>\n",
       "    </tr>\n",
       "  </thead>\n",
       "  <tbody>\n",
       "    <tr>\n",
       "      <th>0</th>\n",
       "      <td>1999-12-31</td>\n",
       "      <td>8413.799805</td>\n",
       "    </tr>\n",
       "    <tr>\n",
       "      <th>1</th>\n",
       "      <td>2000-01-03</td>\n",
       "      <td>8413.799805</td>\n",
       "    </tr>\n",
       "    <tr>\n",
       "      <th>2</th>\n",
       "      <td>2000-01-04</td>\n",
       "      <td>8202.599609</td>\n",
       "    </tr>\n",
       "    <tr>\n",
       "      <th>3</th>\n",
       "      <td>2000-01-05</td>\n",
       "      <td>8119.399902</td>\n",
       "    </tr>\n",
       "    <tr>\n",
       "      <th>4</th>\n",
       "      <td>2000-01-06</td>\n",
       "      <td>8114.200195</td>\n",
       "    </tr>\n",
       "    <tr>\n",
       "      <th>...</th>\n",
       "      <td>...</td>\n",
       "      <td>...</td>\n",
       "    </tr>\n",
       "    <tr>\n",
       "      <th>4814</th>\n",
       "      <td>2018-12-20</td>\n",
       "      <td>14141.799805</td>\n",
       "    </tr>\n",
       "    <tr>\n",
       "      <th>4815</th>\n",
       "      <td>2018-12-21</td>\n",
       "      <td>13935.400391</td>\n",
       "    </tr>\n",
       "    <tr>\n",
       "      <th>4816</th>\n",
       "      <td>2018-12-24</td>\n",
       "      <td>13780.200195</td>\n",
       "    </tr>\n",
       "    <tr>\n",
       "      <th>4817</th>\n",
       "      <td>2018-12-27</td>\n",
       "      <td>14165.200195</td>\n",
       "    </tr>\n",
       "    <tr>\n",
       "      <th>4818</th>\n",
       "      <td>2018-12-28</td>\n",
       "      <td>14222.000000</td>\n",
       "    </tr>\n",
       "  </tbody>\n",
       "</table>\n",
       "<p>4819 rows × 2 columns</p>\n",
       "</div>"
      ],
      "text/plain": [
       "            Date         Close\n",
       "0     1999-12-31   8413.799805\n",
       "1     2000-01-03   8413.799805\n",
       "2     2000-01-04   8202.599609\n",
       "3     2000-01-05   8119.399902\n",
       "4     2000-01-06   8114.200195\n",
       "...          ...           ...\n",
       "4814  2018-12-20  14141.799805\n",
       "4815  2018-12-21  13935.400391\n",
       "4816  2018-12-24  13780.200195\n",
       "4817  2018-12-27  14165.200195\n",
       "4818  2018-12-28  14222.000000\n",
       "\n",
       "[4819 rows x 2 columns]"
      ]
     },
     "execution_count": 14,
     "metadata": {},
     "output_type": "execute_result"
    }
   ],
   "source": [
    "df"
   ]
  },
  {
   "cell_type": "code",
   "execution_count": 16,
   "id": "9f4be61b-f480-477e-b42a-62f9c729865d",
   "metadata": {},
   "outputs": [
    {
     "data": {
      "text/plain": [
       "Date      0\n",
       "Close    20\n",
       "dtype: int64"
      ]
     },
     "execution_count": 16,
     "metadata": {},
     "output_type": "execute_result"
    }
   ],
   "source": [
    "df.isnull().sum()"
   ]
  },
  {
   "cell_type": "code",
   "execution_count": 18,
   "id": "a68db1cf-24c2-4ae2-ab1f-55323e11d07b",
   "metadata": {},
   "outputs": [
    {
     "name": "stderr",
     "output_type": "stream",
     "text": [
      "C:\\Users\\DELL\\AppData\\Local\\Temp\\ipykernel_16276\\138852243.py:1: SettingWithCopyWarning: \n",
      "A value is trying to be set on a copy of a slice from a DataFrame.\n",
      "Try using .loc[row_indexer,col_indexer] = value instead\n",
      "\n",
      "See the caveats in the documentation: https://pandas.pydata.org/pandas-docs/stable/user_guide/indexing.html#returning-a-view-versus-a-copy\n",
      "  df['Date']=pd.to_datetime(df['Date'],errors='coerce')\n"
     ]
    }
   ],
   "source": [
    "df['Date']=pd.to_datetime(df['Date'],errors='coerce')"
   ]
  },
  {
   "cell_type": "code",
   "execution_count": 22,
   "id": "10fc35a8-6c97-4e37-b3df-bf0f7b258486",
   "metadata": {},
   "outputs": [
    {
     "name": "stderr",
     "output_type": "stream",
     "text": [
      "C:\\Users\\DELL\\AppData\\Local\\Temp\\ipykernel_16276\\1855887653.py:1: SettingWithCopyWarning: \n",
      "A value is trying to be set on a copy of a slice from a DataFrame.\n",
      "Try using .loc[row_indexer,col_indexer] = value instead\n",
      "\n",
      "See the caveats in the documentation: https://pandas.pydata.org/pandas-docs/stable/user_guide/indexing.html#returning-a-view-versus-a-copy\n",
      "  df['Close']=pd.to_numeric(df['Close'], errors='coerce')\n"
     ]
    }
   ],
   "source": [
    "df['Close']=pd.to_numeric(df['Close'], errors='coerce')"
   ]
  },
  {
   "cell_type": "code",
   "execution_count": 26,
   "id": "ded3292f-22b3-438d-aff3-40b297863099",
   "metadata": {},
   "outputs": [
    {
     "data": {
      "text/plain": [
       "Date      0\n",
       "Close    20\n",
       "dtype: int64"
      ]
     },
     "execution_count": 26,
     "metadata": {},
     "output_type": "execute_result"
    }
   ],
   "source": [
    "df.isnull().sum()"
   ]
  },
  {
   "cell_type": "code",
   "execution_count": 28,
   "id": "c9e9622f-3a5a-4bfd-94b4-4e8390393579",
   "metadata": {},
   "outputs": [],
   "source": [
    "df=df.dropna()"
   ]
  },
  {
   "cell_type": "code",
   "execution_count": 30,
   "id": "0557944f-fb88-4376-a998-582bbf328c8d",
   "metadata": {},
   "outputs": [
    {
     "data": {
      "text/plain": [
       "Date     0\n",
       "Close    0\n",
       "dtype: int64"
      ]
     },
     "execution_count": 30,
     "metadata": {},
     "output_type": "execute_result"
    }
   ],
   "source": [
    "df.isnull().sum()"
   ]
  },
  {
   "cell_type": "code",
   "execution_count": 32,
   "id": "fb2e70ac-7a8a-408d-a79e-4be2c9c15a69",
   "metadata": {},
   "outputs": [
    {
     "name": "stderr",
     "output_type": "stream",
     "text": [
      "C:\\Users\\DELL\\AppData\\Local\\Temp\\ipykernel_16276\\3474248803.py:1: SettingWithCopyWarning: \n",
      "A value is trying to be set on a copy of a slice from a DataFrame\n",
      "\n",
      "See the caveats in the documentation: https://pandas.pydata.org/pandas-docs/stable/user_guide/indexing.html#returning-a-view-versus-a-copy\n",
      "  df.sort_values(by='Date',ascending=True,inplace=True)\n"
     ]
    }
   ],
   "source": [
    "df.sort_values(by='Date',ascending=True,inplace=True)"
   ]
  },
  {
   "cell_type": "code",
   "execution_count": 34,
   "id": "a3b4cd1a-b276-44ee-9527-2e8204aa7c93",
   "metadata": {},
   "outputs": [
    {
     "data": {
      "text/html": [
       "<div>\n",
       "<style scoped>\n",
       "    .dataframe tbody tr th:only-of-type {\n",
       "        vertical-align: middle;\n",
       "    }\n",
       "\n",
       "    .dataframe tbody tr th {\n",
       "        vertical-align: top;\n",
       "    }\n",
       "\n",
       "    .dataframe thead th {\n",
       "        text-align: right;\n",
       "    }\n",
       "</style>\n",
       "<table border=\"1\" class=\"dataframe\">\n",
       "  <thead>\n",
       "    <tr style=\"text-align: right;\">\n",
       "      <th></th>\n",
       "      <th>Date</th>\n",
       "      <th>Close</th>\n",
       "    </tr>\n",
       "  </thead>\n",
       "  <tbody>\n",
       "    <tr>\n",
       "      <th>0</th>\n",
       "      <td>1999-12-31</td>\n",
       "      <td>8413.799805</td>\n",
       "    </tr>\n",
       "    <tr>\n",
       "      <th>1</th>\n",
       "      <td>2000-01-03</td>\n",
       "      <td>8413.799805</td>\n",
       "    </tr>\n",
       "    <tr>\n",
       "      <th>2</th>\n",
       "      <td>2000-01-04</td>\n",
       "      <td>8202.599609</td>\n",
       "    </tr>\n",
       "    <tr>\n",
       "      <th>3</th>\n",
       "      <td>2000-01-05</td>\n",
       "      <td>8119.399902</td>\n",
       "    </tr>\n",
       "    <tr>\n",
       "      <th>4</th>\n",
       "      <td>2000-01-06</td>\n",
       "      <td>8114.200195</td>\n",
       "    </tr>\n",
       "    <tr>\n",
       "      <th>...</th>\n",
       "      <td>...</td>\n",
       "      <td>...</td>\n",
       "    </tr>\n",
       "    <tr>\n",
       "      <th>4814</th>\n",
       "      <td>2018-12-20</td>\n",
       "      <td>14141.799805</td>\n",
       "    </tr>\n",
       "    <tr>\n",
       "      <th>4815</th>\n",
       "      <td>2018-12-21</td>\n",
       "      <td>13935.400391</td>\n",
       "    </tr>\n",
       "    <tr>\n",
       "      <th>4816</th>\n",
       "      <td>2018-12-24</td>\n",
       "      <td>13780.200195</td>\n",
       "    </tr>\n",
       "    <tr>\n",
       "      <th>4817</th>\n",
       "      <td>2018-12-27</td>\n",
       "      <td>14165.200195</td>\n",
       "    </tr>\n",
       "    <tr>\n",
       "      <th>4818</th>\n",
       "      <td>2018-12-28</td>\n",
       "      <td>14222.000000</td>\n",
       "    </tr>\n",
       "  </tbody>\n",
       "</table>\n",
       "<p>4799 rows × 2 columns</p>\n",
       "</div>"
      ],
      "text/plain": [
       "           Date         Close\n",
       "0    1999-12-31   8413.799805\n",
       "1    2000-01-03   8413.799805\n",
       "2    2000-01-04   8202.599609\n",
       "3    2000-01-05   8119.399902\n",
       "4    2000-01-06   8114.200195\n",
       "...         ...           ...\n",
       "4814 2018-12-20  14141.799805\n",
       "4815 2018-12-21  13935.400391\n",
       "4816 2018-12-24  13780.200195\n",
       "4817 2018-12-27  14165.200195\n",
       "4818 2018-12-28  14222.000000\n",
       "\n",
       "[4799 rows x 2 columns]"
      ]
     },
     "execution_count": 34,
     "metadata": {},
     "output_type": "execute_result"
    }
   ],
   "source": [
    "df"
   ]
  },
  {
   "cell_type": "code",
   "execution_count": 36,
   "id": "547d32d1-d26a-48c4-873c-bb2f44032416",
   "metadata": {},
   "outputs": [
    {
     "name": "stderr",
     "output_type": "stream",
     "text": [
      "C:\\Users\\DELL\\AppData\\Local\\Temp\\ipykernel_16276\\562328376.py:1: SettingWithCopyWarning: \n",
      "A value is trying to be set on a copy of a slice from a DataFrame.\n",
      "Try using .loc[row_indexer,col_indexer] = value instead\n",
      "\n",
      "See the caveats in the documentation: https://pandas.pydata.org/pandas-docs/stable/user_guide/indexing.html#returning-a-view-versus-a-copy\n",
      "  df['Log Return'] = np.log(df['Close']/df['Close'].shift(1))\n"
     ]
    }
   ],
   "source": [
    "df['Log Return'] = np.log(df['Close']/df['Close'].shift(1))"
   ]
  },
  {
   "cell_type": "code",
   "execution_count": 38,
   "id": "ea636b66-7b51-4d23-9f43-3018cef937a9",
   "metadata": {},
   "outputs": [
    {
     "data": {
      "text/plain": [
       "0            NaN\n",
       "1       0.000000\n",
       "2      -0.025422\n",
       "3      -0.010195\n",
       "4      -0.000641\n",
       "          ...   \n",
       "4814   -0.008611\n",
       "4815   -0.014703\n",
       "4816   -0.011200\n",
       "4817    0.027555\n",
       "4818    0.004002\n",
       "Name: Log Return, Length: 4799, dtype: float64"
      ]
     },
     "execution_count": 38,
     "metadata": {},
     "output_type": "execute_result"
    }
   ],
   "source": [
    "df['Log Return']"
   ]
  },
  {
   "cell_type": "code",
   "execution_count": 40,
   "id": "f13f13df-f405-4562-b7f5-7d7a04096002",
   "metadata": {},
   "outputs": [],
   "source": [
    "bin_no= 12"
   ]
  },
  {
   "cell_type": "code",
   "execution_count": 42,
   "id": "184a1f3f-d0f5-4f2e-b319-6ff13fd6073a",
   "metadata": {},
   "outputs": [],
   "source": [
    "max_log_return = df['Log Return'].max()"
   ]
  },
  {
   "cell_type": "code",
   "execution_count": 44,
   "id": "8594f42e-8683-4629-8995-5e2ce06848ba",
   "metadata": {},
   "outputs": [],
   "source": [
    "min_log_return = df['Log Return'].min()"
   ]
  },
  {
   "cell_type": "code",
   "execution_count": 46,
   "id": "3112ba99-c5f4-4c47-ac27-f7f8ca56598e",
   "metadata": {},
   "outputs": [
    {
     "data": {
      "text/plain": [
       "np.float64(0.0937023427012818)"
      ]
     },
     "execution_count": 46,
     "metadata": {},
     "output_type": "execute_result"
    }
   ],
   "source": [
    "max_log_return"
   ]
  },
  {
   "cell_type": "code",
   "execution_count": 48,
   "id": "ea439f8d-809b-4974-9384-5bfbf09373dc",
   "metadata": {},
   "outputs": [
    {
     "data": {
      "text/plain": [
       "np.float64(-0.09787850819975054)"
      ]
     },
     "execution_count": 48,
     "metadata": {},
     "output_type": "execute_result"
    }
   ],
   "source": [
    "min_log_return"
   ]
  },
  {
   "cell_type": "code",
   "execution_count": 52,
   "id": "0705c5b5-82da-462a-90f0-002f1c633a7e",
   "metadata": {},
   "outputs": [],
   "source": [
    "bin_width=(max_log_return - min_log_return)/bin_no"
   ]
  },
  {
   "cell_type": "code",
   "execution_count": 54,
   "id": "55f62f5b-c217-493b-94f9-aa39a53ebbce",
   "metadata": {},
   "outputs": [
    {
     "data": {
      "text/plain": [
       "np.float64(0.015965070908419362)"
      ]
     },
     "execution_count": 54,
     "metadata": {},
     "output_type": "execute_result"
    }
   ],
   "source": [
    "bin_width"
   ]
  },
  {
   "cell_type": "code",
   "execution_count": 60,
   "id": "192be081-55c3-41b1-8b47-6c506eced500",
   "metadata": {},
   "outputs": [],
   "source": [
    "bin_edges = np.arange(min_log_return, max_log_return + bin_width, bin_width)"
   ]
  },
  {
   "cell_type": "code",
   "execution_count": 62,
   "id": "e50cd9a1-0b97-4be6-8bee-d346200b96b4",
   "metadata": {},
   "outputs": [
    {
     "data": {
      "text/plain": [
       "array([-0.09787851, -0.08191344, -0.06594837, -0.0499833 , -0.03401822,\n",
       "       -0.01805315, -0.00208808,  0.01387699,  0.02984206,  0.04580713,\n",
       "        0.0617722 ,  0.07773727,  0.09370234])"
      ]
     },
     "execution_count": 62,
     "metadata": {},
     "output_type": "execute_result"
    }
   ],
   "source": [
    "bin_edges"
   ]
  },
  {
   "cell_type": "code",
   "execution_count": 64,
   "id": "d3df0e1d-d9e9-44aa-9443-da0b977d353c",
   "metadata": {},
   "outputs": [
    {
     "name": "stderr",
     "output_type": "stream",
     "text": [
      "C:\\Users\\DELL\\AppData\\Local\\Temp\\ipykernel_16276\\351988089.py:1: SettingWithCopyWarning: \n",
      "A value is trying to be set on a copy of a slice from a DataFrame.\n",
      "Try using .loc[row_indexer,col_indexer] = value instead\n",
      "\n",
      "See the caveats in the documentation: https://pandas.pydata.org/pandas-docs/stable/user_guide/indexing.html#returning-a-view-versus-a-copy\n",
      "  df['Interval'] = pd.cut(df['Log Return'], bins=bin_edges, include_lowest=True)\n"
     ]
    }
   ],
   "source": [
    "df['Interval'] = pd.cut(df['Log Return'], bins=bin_edges, include_lowest=True)"
   ]
  },
  {
   "cell_type": "code",
   "execution_count": 70,
   "id": "782d5ae8-79c7-4a84-adae-ba008977c9a9",
   "metadata": {},
   "outputs": [
    {
     "data": {
      "text/plain": [
       "0                       NaN\n",
       "1        (-0.00209, 0.0139]\n",
       "2         (-0.034, -0.0181]\n",
       "3       (-0.0181, -0.00209]\n",
       "4        (-0.00209, 0.0139]\n",
       "               ...         \n",
       "4814    (-0.0181, -0.00209]\n",
       "4815    (-0.0181, -0.00209]\n",
       "4816    (-0.0181, -0.00209]\n",
       "4817       (0.0139, 0.0298]\n",
       "4818     (-0.00209, 0.0139]\n",
       "Name: Interval, Length: 4799, dtype: category\n",
       "Categories (12, interval[float64, right]): [(-0.0989, -0.0819] < (-0.0819, -0.0659] < (-0.0659, -0.05] < (-0.05, -0.034] ... (0.0298, 0.0458] < (0.0458, 0.0618] < (0.0618, 0.0777] < (0.0777, 0.0937]]"
      ]
     },
     "execution_count": 70,
     "metadata": {},
     "output_type": "execute_result"
    }
   ],
   "source": [
    "df['Interval']"
   ]
  },
  {
   "cell_type": "code",
   "execution_count": 72,
   "id": "7c608094-bb95-4f8c-9ba9-9977c0a932b3",
   "metadata": {},
   "outputs": [],
   "source": [
    "interval_frequencies = df['Interval'].value_counts().sort_index()"
   ]
  },
  {
   "cell_type": "code",
   "execution_count": 74,
   "id": "4651f50f-26bc-4a94-91ec-7e96c0063314",
   "metadata": {},
   "outputs": [
    {
     "data": {
      "text/plain": [
       "Interval\n",
       "(-0.0989, -0.0819]        4\n",
       "(-0.0819, -0.0659]        3\n",
       "(-0.0659, -0.05]          7\n",
       "(-0.05, -0.034]          23\n",
       "(-0.034, -0.0181]       173\n",
       "(-0.0181, -0.00209]    1475\n",
       "(-0.00209, 0.0139]     2829\n",
       "(0.0139, 0.0298]        241\n",
       "(0.0298, 0.0458]         34\n",
       "(0.0458, 0.0618]          5\n",
       "(0.0618, 0.0777]          3\n",
       "(0.0777, 0.0937]          1\n",
       "Name: count, dtype: int64"
      ]
     },
     "execution_count": 74,
     "metadata": {},
     "output_type": "execute_result"
    }
   ],
   "source": [
    "interval_frequencies"
   ]
  },
  {
   "cell_type": "code",
   "execution_count": 78,
   "id": "af0258d8-522b-47ff-89ad-ac4043962eee",
   "metadata": {},
   "outputs": [],
   "source": [
    "total_values=len(df['Log Return'].dropna())"
   ]
  },
  {
   "cell_type": "code",
   "execution_count": 80,
   "id": "28bd6b10-1afc-4567-bc97-ea7cccf8b15f",
   "metadata": {},
   "outputs": [],
   "source": [
    "interval_probabilities = interval_frequencies/total_values"
   ]
  },
  {
   "cell_type": "code",
   "execution_count": 82,
   "id": "d2d0235f-51ea-449e-a176-ae42473e20cb",
   "metadata": {},
   "outputs": [
    {
     "data": {
      "text/plain": [
       "Interval\n",
       "(-0.0989, -0.0819]     0.000834\n",
       "(-0.0819, -0.0659]     0.000625\n",
       "(-0.0659, -0.05]       0.001459\n",
       "(-0.05, -0.034]        0.004794\n",
       "(-0.034, -0.0181]      0.036057\n",
       "(-0.0181, -0.00209]    0.307420\n",
       "(-0.00209, 0.0139]     0.589621\n",
       "(0.0139, 0.0298]       0.050229\n",
       "(0.0298, 0.0458]       0.007086\n",
       "(0.0458, 0.0618]       0.001042\n",
       "(0.0618, 0.0777]       0.000625\n",
       "(0.0777, 0.0937]       0.000208\n",
       "Name: count, dtype: float64"
      ]
     },
     "execution_count": 82,
     "metadata": {},
     "output_type": "execute_result"
    }
   ],
   "source": [
    "interval_probabilities"
   ]
  },
  {
   "cell_type": "code",
   "execution_count": 84,
   "id": "3e4a15ca-8753-4794-9929-1866a4cadd57",
   "metadata": {},
   "outputs": [],
   "source": [
    "entropy = -np.sum(interval_probabilities * np.log2(interval_probabilities + 1e-10))"
   ]
  },
  {
   "cell_type": "code",
   "execution_count": 86,
   "id": "cbdd81e3-3c4d-4464-9bac-42582ca4df02",
   "metadata": {},
   "outputs": [
    {
     "data": {
      "text/plain": [
       "np.float64(1.498100670667662)"
      ]
     },
     "execution_count": 86,
     "metadata": {},
     "output_type": "execute_result"
    }
   ],
   "source": [
    "entropy"
   ]
  },
  {
   "cell_type": "code",
   "execution_count": null,
   "id": "fce9defe-14b5-4d97-9cc4-cd4f3137cfea",
   "metadata": {},
   "outputs": [],
   "source": []
  }
 ],
 "metadata": {
  "kernelspec": {
   "display_name": "Python [conda env:miniconda3-housing]",
   "language": "python",
   "name": "conda-env-miniconda3-housing-py"
  },
  "language_info": {
   "codemirror_mode": {
    "name": "ipython",
    "version": 3
   },
   "file_extension": ".py",
   "mimetype": "text/x-python",
   "name": "python",
   "nbconvert_exporter": "python",
   "pygments_lexer": "ipython3",
   "version": "3.9.21"
  }
 },
 "nbformat": 4,
 "nbformat_minor": 5
}
